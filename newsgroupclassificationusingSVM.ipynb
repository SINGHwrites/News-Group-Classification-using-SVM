{
  "nbformat": 4,
  "nbformat_minor": 0,
  "metadata": {
    "colab": {
      "provenance": [],
      "collapsed_sections": []
    },
    "kernelspec": {
      "name": "python3",
      "display_name": "Python 3"
    },
    "language_info": {
      "name": "python"
    }
  },
  "cells": [
    {
      "cell_type": "markdown",
      "source": [
        "# **Classifying newsgroup topics with Support Vector Machines**\n",
        "\n",
        "---\n",
        "\n",
        "\n",
        "\\\n",
        "\n"
      ],
      "metadata": {
        "id": "GZ0OZNXHjcyQ"
      }
    },
    {
      "cell_type": "markdown",
      "source": [
        "# Importing libraries"
      ],
      "metadata": {
        "id": "NFLQqz4Yersh"
      }
    },
    {
      "cell_type": "markdown",
      "source": [
        "*Libraries used :-*\n",
        "\n",
        "1.   Sci-kit learn (machine learning library)\n",
        "2.   Natural Language Toolkit (natural language processing library) also known as NLTK"
      ],
      "metadata": {
        "id": "5TBbJW4_fvT0"
      }
    },
    {
      "cell_type": "code",
      "execution_count": 1,
      "metadata": {
        "id": "o5f5RNCtgmOO"
      },
      "outputs": [],
      "source": [
        "from sklearn.feature_extraction.text import TfidfVectorizer\n",
        "from sklearn.datasets import fetch_20newsgroups\n",
        "from nltk.corpus import names\n",
        "from nltk.stem import WordNetLemmatizer"
      ]
    },
    {
      "cell_type": "markdown",
      "source": [
        "Downloading required nltk library packages using  the command - nltk.download ('package_name')"
      ],
      "metadata": {
        "id": "wGoM8muJezz8"
      }
    },
    {
      "cell_type": "code",
      "source": [
        "import nltk\n",
        "nltk.download('names')\n",
        "nltk.download('stopwords')\n",
        "from nltk.corpus import stopwords\n",
        "from nltk.tokenize import word_tokenize\n",
        "nltk.download('wordnet')\n",
        "nltk.download('omw-1.4')"
      ],
      "metadata": {
        "colab": {
          "base_uri": "https://localhost:8080/"
        },
        "id": "xFxC0qcrj3dN",
        "outputId": "a20f6e7d-8da3-44e3-bbc7-1957a479c047"
      },
      "execution_count": 2,
      "outputs": [
        {
          "output_type": "stream",
          "name": "stderr",
          "text": [
            "[nltk_data] Downloading package names to /root/nltk_data...\n",
            "[nltk_data]   Unzipping corpora/names.zip.\n",
            "[nltk_data] Downloading package stopwords to /root/nltk_data...\n",
            "[nltk_data]   Unzipping corpora/stopwords.zip.\n",
            "[nltk_data] Downloading package wordnet to /root/nltk_data...\n",
            "[nltk_data] Downloading package omw-1.4 to /root/nltk_data...\n"
          ]
        },
        {
          "output_type": "execute_result",
          "data": {
            "text/plain": [
              "True"
            ]
          },
          "metadata": {},
          "execution_count": 2
        }
      ]
    },
    {
      "cell_type": "markdown",
      "source": [
        "*Lemmatization is the process of grouping together different inflected forms of words having the same root or lemma for better NLP analysis and operations. The lemmatization algorithm removes affixes from the inflected words to convert them into the base words (lemma form). For example, “running” and “runs” are converted to its lemma form “run”.*\n",
        "\n",
        "*Wordnet is a popular lexical database of the English language that is used by NLTK internally. WordNetLemmatizer is an NLTK lemmatizer built using the Wordnet database*\n",
        "☑\n",
        "\n"
      ],
      "metadata": {
        "id": "IP9DRkaKgre-"
      }
    },
    {
      "cell_type": "code",
      "source": [
        "all_names=set(names.words())\n",
        "lemmatizer=WordNetLemmatizer()\n",
        "\n",
        "def is_letter_only(word):\n",
        "    return word.isalpha()\n",
        "\n",
        "from nltk.corpus import stopwords\n",
        "stop_words= stopwords.words('english')"
      ],
      "metadata": {
        "id": "CoDh83ayicEd"
      },
      "execution_count": 3,
      "outputs": []
    },
    {
      "cell_type": "code",
      "source": [
        "def clean_text(docs):\n",
        "    docs_cleaned=[]\n",
        "    for doc in docs:\n",
        "        doc=doc.lower()\n",
        "        doc_cleaned=' '.join(lemmatizer.lemmatize(word) for word in doc.split()\n",
        "                            if is_letter_only(word) and word not in all_names and word not in stop_words)\n",
        "        docs_cleaned.append(doc_cleaned)\n",
        "    return docs_cleaned"
      ],
      "metadata": {
        "id": "uOeQwUMqica1"
      },
      "execution_count": 4,
      "outputs": []
    },
    {
      "cell_type": "markdown",
      "source": [
        "Fetching dataset 20newsgroups "
      ],
      "metadata": {
        "id": "C-W5UDQAi0J7"
      }
    },
    {
      "cell_type": "code",
      "source": [
        "fetch_20newsgroups"
      ],
      "metadata": {
        "colab": {
          "base_uri": "https://localhost:8080/"
        },
        "id": "iu2lDCggi0lT",
        "outputId": "743f3356-7234-4281-f096-2ca0df27cb8d"
      },
      "execution_count": 5,
      "outputs": [
        {
          "output_type": "execute_result",
          "data": {
            "text/plain": [
              "<function sklearn.datasets._twenty_newsgroups.fetch_20newsgroups(*, data_home=None, subset='train', categories=None, shuffle=True, random_state=42, remove=(), download_if_missing=True, return_X_y=False)>"
            ]
          },
          "metadata": {},
          "execution_count": 5
        }
      ]
    },
    {
      "cell_type": "code",
      "execution_count": 12,
      "metadata": {
        "id": "f87e9c0a"
      },
      "outputs": [],
      "source": [
        "cleaned_test = clean_text(data_test.data)\n",
        "label_test = data_test.target"
      ]
    },
    {
      "cell_type": "markdown",
      "source": [
        "# ***Binary classification is a supervised machine learning technique where the goal is to predict categorical class labels which are discrete and unoredered such as Pass/Fail, Positive/Negative, etc.***"
      ],
      "metadata": {
        "id": "qXJWEs9yeb9W"
      }
    },
    {
      "cell_type": "code",
      "source": [
        "# Binary Classification \n",
        "\n",
        "categories= ['comp.graphics','sci.space']\n",
        "\n",
        "data_train= fetch_20newsgroups(subset='train', categories= categories, random_state=42)\n",
        "data_test= fetch_20newsgroups(subset='test', categories=categories, random_state=42)\n",
        "\n",
        "cleaned_train= clean_text(data_train.data)\n",
        "label_train= data_train.target"
      ],
      "metadata": {
        "id": "l7Q7PLJEi8-n"
      },
      "execution_count": 13,
      "outputs": []
    },
    {
      "cell_type": "markdown",
      "source": [
        "Tfidfvectorizer convert a collection of raw documents to a matrix of TF-IDF features.\n",
        "\n",
        "And it is equivalent to CountVectorizer followed by TfidfTransformer."
      ],
      "metadata": {
        "id": "edMRbfiDjnaW"
      }
    },
    {
      "cell_type": "code",
      "source": [
        "# Tfidfvectorizer- term frequency inverse document frequency\n",
        "from collections import Counter\n",
        "Counter(label_train)"
      ],
      "metadata": {
        "colab": {
          "base_uri": "https://localhost:8080/"
        },
        "id": "cJCOlV3njBgQ",
        "outputId": "fc44dc2c-e568-48d2-f4e7-ef869ca2106b"
      },
      "execution_count": 14,
      "outputs": [
        {
          "output_type": "execute_result",
          "data": {
            "text/plain": [
              "Counter({0: 584, 1: 593})"
            ]
          },
          "metadata": {},
          "execution_count": 14
        }
      ]
    },
    {
      "cell_type": "code",
      "source": [
        "tfidf_vectorizer= TfidfVectorizer(stop_words='english',max_features=None)\n",
        "term_docs_train= tfidf_vectorizer.fit_transform(cleaned_train)\n",
        "term_docs_test=tfidf_vectorizer.transform(cleaned_test)"
      ],
      "metadata": {
        "id": "NRwcjir8jBwk"
      },
      "execution_count": 15,
      "outputs": []
    },
    {
      "cell_type": "markdown",
      "source": [
        "Importing Support Vector Machine from sklearn library using the command - from sklearn.svm import SVC (using linear svc here)"
      ],
      "metadata": {
        "id": "BYD25Y-nj9dh"
      }
    },
    {
      "cell_type": "code",
      "source": [
        "from sklearn.svm import SVC\n",
        "\n",
        "svm=SVC(kernel='linear', random_state=42)\n",
        "svm.fit(term_docs_train, label_train)\n",
        "accuracy= svm.score(term_docs_test, label_test)\n",
        "print(\"The accuracy of binary classification is : {0:.1f}%\".format(accuracy*100))"
      ],
      "metadata": {
        "colab": {
          "base_uri": "https://localhost:8080/"
        },
        "id": "A7L_NNNAjMEt",
        "outputId": "fd41ecd5-312c-41a6-e6d7-cb4ea4676ca9"
      },
      "execution_count": 16,
      "outputs": [
        {
          "output_type": "stream",
          "name": "stdout",
          "text": [
            "The accuracy of binary classification is : 96.4%\n"
          ]
        }
      ]
    },
    {
      "cell_type": "markdown",
      "source": [
        "**Our models accuracy of binary classification is 96.4%**"
      ],
      "metadata": {
        "id": "oBwTM60mkmg3"
      }
    },
    {
      "cell_type": "markdown",
      "source": [
        "Multiclass classification is a popular problem in supervised machine learning.\n",
        "\n",
        "Problem – Given a dataset of m training examples, each of which contains information in the form of various features and a label. Each label corresponds to a class, to which the training example belongs."
      ],
      "metadata": {
        "id": "9l8UUfojlECO"
      }
    },
    {
      "cell_type": "code",
      "source": [
        "# Multiclass classification\n",
        "categories=[\n",
        "    'alt.atheism',\n",
        "    'talk.religion.misc',\n",
        "    'comp.graphics',\n",
        "    'sci.space',\n",
        "    'rec.sport.hockey'\n",
        "]"
      ],
      "metadata": {
        "id": "VKHKYdBijMYj"
      },
      "execution_count": 17,
      "outputs": []
    },
    {
      "cell_type": "markdown",
      "source": [
        "Model for Multiclass classification"
      ],
      "metadata": {
        "id": "rP8kCyhUmOQg"
      }
    },
    {
      "cell_type": "code",
      "source": [
        "data_train= fetch_20newsgroups(subset='train', categories= categories, random_state=42)\n",
        "data_test= fetch_20newsgroups(subset='test', categories=categories, random_state=42)\n",
        "\n",
        "cleaned_train= clean_text(data_train.data)\n",
        "label_train= data_train.target\n",
        "\n",
        "cleaned_test= clean_text(data_test.data)\n",
        "label_test= data_test.target\n",
        "\n",
        "tfidf_vectorizer= TfidfVectorizer(stop_words='english',max_features=None)\n",
        "term_docs_train= tfidf_vectorizer.fit_transform(cleaned_train)\n",
        "term_docs_test=tfidf_vectorizer.transform(cleaned_test)\n",
        "\n",
        "svm=SVC(kernel='linear', random_state=42)\n",
        "svm.fit(term_docs_train, label_train)\n",
        "accuracy= svm.score(term_docs_test, label_test)\n",
        "print(\"The accuracy of 5-class classification is : {0:.1f}%\".format(accuracy*100))"
      ],
      "metadata": {
        "colab": {
          "base_uri": "https://localhost:8080/"
        },
        "id": "aN7aFb2yjMsZ",
        "outputId": "0ad0566a-bc4b-43ab-bccf-38281daa8598"
      },
      "execution_count": 18,
      "outputs": [
        {
          "output_type": "stream",
          "name": "stdout",
          "text": [
            "The accuracy of 5-class classification is : 88.6%\n"
          ]
        }
      ]
    },
    {
      "cell_type": "markdown",
      "source": [
        "**Our models accuracy of Multiclass classification is 88.6%**"
      ],
      "metadata": {
        "id": "Zg1LwwJGmnJu"
      }
    },
    {
      "cell_type": "code",
      "source": [
        "from sklearn.metrics import classification_report\n",
        "import matplotlib.pyplot as plt\n",
        "prediction= svm.predict(term_docs_test)\n",
        "report= classification_report(label_test, prediction)\n",
        "print(report)\n",
        "\n",
        "plt.plot(prediction)\n",
        "plt.show()"
      ],
      "metadata": {
        "colab": {
          "base_uri": "https://localhost:8080/",
          "height": 473
        },
        "id": "PgUt5I4WjNA1",
        "outputId": "c391aec0-8848-4250-d8bb-6146a7de86ce"
      },
      "execution_count": 24,
      "outputs": [
        {
          "output_type": "stream",
          "name": "stdout",
          "text": [
            "              precision    recall  f1-score   support\n",
            "\n",
            "           0       0.79      0.77      0.78       319\n",
            "           1       0.92      0.96      0.94       389\n",
            "           2       0.98      0.96      0.97       399\n",
            "           3       0.93      0.94      0.93       394\n",
            "           4       0.74      0.73      0.73       251\n",
            "\n",
            "    accuracy                           0.89      1752\n",
            "   macro avg       0.87      0.87      0.87      1752\n",
            "weighted avg       0.89      0.89      0.89      1752\n",
            "\n"
          ]
        },
        {
          "output_type": "display_data",
          "data": {
            "text/plain": [
              "<Figure size 432x288 with 1 Axes>"
            ],
            "image/png": "[encoded data removed]"
          },
          "metadata": {
            "needs_background": "light"
          }
        }
      ]
    }
  ]
}